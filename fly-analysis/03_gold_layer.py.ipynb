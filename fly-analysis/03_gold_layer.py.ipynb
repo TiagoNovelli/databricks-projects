{
 "cells": [
  {
   "cell_type": "markdown",
   "metadata": {
    "application/vnd.databricks.v1+cell": {
     "cellMetadata": {},
     "inputWidgets": {},
     "nuid": "29f95166-6ba7-4af1-b3a6-903b38520aaf",
     "showTitle": false,
     "tableResultSettingsMap": {},
     "title": ""
    }
   },
   "source": [
    "## Consultado os arquivos na camada silver"
   ]
  },
  {
   "cell_type": "markdown",
   "metadata": {
    "application/vnd.databricks.v1+cell": {
     "cellMetadata": {},
     "inputWidgets": {},
     "nuid": "def482be-e80f-4500-92bf-4fa509c548ac",
     "showTitle": false,
     "tableResultSettingsMap": {},
     "title": ""
    }
   },
   "source": [
    "## Criando diretório gold"
   ]
  },
  {
   "cell_type": "code",
   "execution_count": 0,
   "metadata": {
    "application/vnd.databricks.v1+cell": {
     "cellMetadata": {
      "byteLimit": 2048000,
      "rowLimit": 10000
     },
     "inputWidgets": {},
     "nuid": "940b40fa-0f92-493d-8598-0d96794051c2",
     "showTitle": false,
     "tableResultSettingsMap": {},
     "title": ""
    }
   },
   "outputs": [],
   "source": [
    "SILVER_PATH = \"/Volumes/workspace/default/delta/silver\"\n",
    "GOLD_PATH = \"/Volumes/workspace/default/delta/gold\"\n",
    "# Criar diretórios se não existirem\n",
    "dbutils.fs.mkdirs(GOLD_PATH)"
   ]
  },
  {
   "cell_type": "markdown",
   "metadata": {
    "application/vnd.databricks.v1+cell": {
     "cellMetadata": {},
     "inputWidgets": {},
     "nuid": "1483be8a-8ab4-4e43-9aa2-1bfbeb6b3d4a",
     "showTitle": false,
     "tableResultSettingsMap": {},
     "title": ""
    }
   },
   "source": [
    "## Consultado os arquivos da camada silver"
   ]
  },
  {
   "cell_type": "code",
   "execution_count": 0,
   "metadata": {
    "application/vnd.databricks.v1+cell": {
     "cellMetadata": {
      "byteLimit": 2048000,
      "rowLimit": 10000
     },
     "inputWidgets": {},
     "nuid": "b1533a7e-d555-42ba-950a-a91614e26c2e",
     "showTitle": false,
     "tableResultSettingsMap": {},
     "title": ""
    }
   },
   "outputs": [],
   "source": [
    "display(dbutils.fs.ls(f\"{SILVER_PATH}/flight/\"))"
   ]
  },
  {
   "cell_type": "code",
   "execution_count": 0,
   "metadata": {
    "application/vnd.databricks.v1+cell": {
     "cellMetadata": {
      "byteLimit": 2048000,
      "rowLimit": 10000
     },
     "inputWidgets": {},
     "nuid": "9d583055-418b-46ba-9ef7-67581698577f",
     "showTitle": false,
     "tableResultSettingsMap": {},
     "title": ""
    }
   },
   "outputs": [],
   "source": [
    "# Ler da camada Bronze\n",
    "df_delays_silver = spark.read.format(\"delta\").load(f\"{SILVER_PATH}/flight/registro_voos\")\n",
    "df_codigos_silver = spark.read.format(\"delta\").load(f\"{SILVER_PATH}/flight/codigos_voos\")\n",
    "print(df_delays_silver)\n",
    "print(df_codigos_silver)"
   ]
  },
  {
   "cell_type": "code",
   "execution_count": 0,
   "metadata": {
    "application/vnd.databricks.v1+cell": {
     "cellMetadata": {
      "byteLimit": 2048000,
      "rowLimit": 10000
     },
     "inputWidgets": {},
     "nuid": "a88cb784-b7ce-4d74-a09f-920068423957",
     "showTitle": false,
     "tableResultSettingsMap": {},
     "title": ""
    }
   },
   "outputs": [],
   "source": [
    "# Registrar como views temporárias\n",
    "# todo: usar spark ao invés de view temporaria para otimizar o processamento\n",
    "# https://docs.databricks.com/sql/language-manual/delta-optimizations.html\n",
    "df_delays_silver.createOrReplaceTempView(\"df_delays_silver\")\n",
    "df_codigos_silver.createOrReplaceTempView(\"df_codigos_silver\")\n"
   ]
  },
  {
   "cell_type": "code",
   "execution_count": 0,
   "metadata": {
    "application/vnd.databricks.v1+cell": {
     "cellMetadata": {
      "byteLimit": 2048000,
      "rowLimit": 10000
     },
     "inputWidgets": {},
     "nuid": "3ebbfe0d-d707-4a9f-80bb-79005ddf9de3",
     "showTitle": false,
     "tableResultSettingsMap": {
      "0": {
       "dataGridStateBlob": "{\"version\":1,\"tableState\":{\"columnPinning\":{\"left\":[\"#row_number#\"],\"right\":[]},\"columnSizing\":{},\"columnVisibility\":{}},\"settings\":{\"columns\":{}},\"syncTimestamp\":1760880880189}",
       "filterBlob": null,
       "queryPlanFiltersBlob": null,
       "tableResultIndex": 0
      }
     },
     "title": ""
    }
   },
   "outputs": [],
   "source": [
    "df_query = spark.sql(\"\"\"\n",
    "SELECT \n",
    "dv.date, dv.origin, dv.destination, dv.distance_km, dv.is_delayed, dv.delay_minutes, dv.delay_category,\n",
    "CASE\n",
    "        WHEN dc2.Country  <> dc.Country THEN \"Internacional\"\n",
    "        WHEN dc2.Country = dc.Country THEN \"Nacional\"\n",
    "        ELSE \"ERRO\"\n",
    "    END AS nacionalidade_voo,\n",
    "CASE\n",
    "        WHEN dc2.State <> dc.State AND dc2.Country = dc.Country THEN True\n",
    "        WHEN dc2.State <> dc.State AND dc2.Country <> dc.Country THEN False\n",
    "        ELSE null\n",
    "    END AS interestadual\n",
    "FROM df_delays_silver dv \n",
    "LEFT JOIN df_codigos_silver dc ON dv.origin = dc.IATA \n",
    "LEFT JOIN df_codigos_silver dc2 ON dv.destination = dc2.IATA \n",
    "\"\"\")\n",
    "display(df_query)\n",
    "# Escrever na camada Gold\n",
    "#df_query.write.format(\"delta\").mode(\"overwrite\").save(GOLD_PATH)"
   ]
  },
  {
   "cell_type": "code",
   "execution_count": 0,
   "metadata": {
    "application/vnd.databricks.v1+cell": {
     "cellMetadata": {
      "byteLimit": 2048000,
      "rowLimit": 10000
     },
     "inputWidgets": {},
     "nuid": "d54416ad-b48c-4388-8375-c538c93a0c57",
     "showTitle": false,
     "tableResultSettingsMap": {},
     "title": ""
    }
   },
   "outputs": [],
   "source": [
    "spark.sql(\"SELECT current_catalog()\").show()\n"
   ]
  },
  {
   "cell_type": "code",
   "execution_count": 0,
   "metadata": {
    "application/vnd.databricks.v1+cell": {
     "cellMetadata": {
      "byteLimit": 2048000,
      "implicitDf": true,
      "rowLimit": 10000
     },
     "inputWidgets": {},
     "nuid": "d511666d-de18-45f3-b96f-dcf42b630d23",
     "showTitle": false,
     "tableResultSettingsMap": {},
     "title": ""
    }
   },
   "outputs": [],
   "source": [
    "%sql\n",
    "CREATE SCHEMA IF NOT EXISTS workspace.gold;\n"
   ]
  },
  {
   "cell_type": "code",
   "execution_count": 0,
   "metadata": {
    "application/vnd.databricks.v1+cell": {
     "cellMetadata": {
      "byteLimit": 2048000,
      "rowLimit": 10000
     },
     "inputWidgets": {},
     "nuid": "4c732e1d-db27-465e-8dcf-97cdb35235c4",
     "showTitle": false,
     "tableResultSettingsMap": {},
     "title": ""
    }
   },
   "outputs": [],
   "source": [
    "df_query.write.format(\"delta\").mode(\"overwrite\").saveAsTable(\"gold.fato_voos\")"
   ]
  },
  {
   "cell_type": "code",
   "execution_count": 0,
   "metadata": {
    "application/vnd.databricks.v1+cell": {
     "cellMetadata": {
      "byteLimit": 2048000,
      "rowLimit": 10000
     },
     "inputWidgets": {},
     "nuid": "381a435e-d80c-4926-b74e-91c4bc8aa6d6",
     "showTitle": false,
     "tableResultSettingsMap": {},
     "title": ""
    }
   },
   "outputs": [],
   "source": [
    "df_codigos_silver.write.format(\"delta\").mode(\"overwrite\").saveAsTable(\"gold.codigos_voos\")"
   ]
  }
 ],
 "metadata": {
  "application/vnd.databricks.v1+notebook": {
   "computePreferences": null,
   "dashboards": [],
   "environmentMetadata": {
    "base_environment": "",
    "environment_version": "4"
   },
   "inputWidgetPreferences": null,
   "language": "python",
   "notebookMetadata": {
    "mostRecentlyExecutedCommandWithImplicitDF": {
     "commandId": 6421357195855215,
     "dataframes": [
      "_sqldf"
     ]
    },
    "pythonIndentUnit": 4
   },
   "notebookName": "03_gold_layer.py",
   "widgets": {}
  },
  "language_info": {
   "name": "python"
  }
 },
 "nbformat": 4,
 "nbformat_minor": 0
}
