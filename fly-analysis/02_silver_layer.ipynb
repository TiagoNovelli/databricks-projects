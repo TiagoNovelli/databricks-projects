{
 "cells": [
  {
   "cell_type": "markdown",
   "metadata": {
    "application/vnd.databricks.v1+cell": {
     "cellMetadata": {
      "byteLimit": 2048000,
      "rowLimit": 10000
     },
     "inputWidgets": {},
     "nuid": "0991c0e8-22ed-42d9-8393-38375f589c9e",
     "showTitle": false,
     "tableResultSettingsMap": {},
     "title": ""
    }
   },
   "source": [
    "## Consultado os arquivos na camada silver"
   ]
  },
  {
   "cell_type": "markdown",
   "metadata": {
    "application/vnd.databricks.v1+cell": {
     "cellMetadata": {
      "byteLimit": 2048000,
      "rowLimit": 10000
     },
     "inputWidgets": {},
     "nuid": "e089751a-5b69-49e2-842d-df652972364a",
     "showTitle": false,
     "tableResultSettingsMap": {},
     "title": ""
    }
   },
   "source": [
    "## Criando diretório Bronze"
   ]
  },
  {
   "cell_type": "code",
   "execution_count": 0,
   "metadata": {
    "application/vnd.databricks.v1+cell": {
     "cellMetadata": {
      "byteLimit": 2048000,
      "rowLimit": 10000
     },
     "inputWidgets": {},
     "nuid": "0ec46454-10a1-4199-887b-bef30e9b115b",
     "showTitle": false,
     "tableResultSettingsMap": {},
     "title": ""
    }
   },
   "outputs": [],
   "source": [
    "BRONZE_PATH = \"/Volumes/workspace/default/delta/bronze\"\n",
    "SILVER_PATH = \"/Volumes/workspace/default/delta/silver\"\n",
    "\n",
    "# Criar diretórios se não existirem\n",
    "dbutils.fs.mkdirs(SILVER_PATH)"
   ]
  },
  {
   "cell_type": "code",
   "execution_count": 0,
   "metadata": {
    "application/vnd.databricks.v1+cell": {
     "cellMetadata": {
      "byteLimit": 2048000,
      "rowLimit": 10000
     },
     "inputWidgets": {},
     "nuid": "d8edfc15-dd64-4193-b956-36f0f9eaed20",
     "showTitle": false,
     "tableResultSettingsMap": {},
     "title": ""
    }
   },
   "outputs": [],
   "source": [
    "display(dbutils.fs.ls(f\"{BRONZE_PATH}/flight/\"))"
   ]
  },
  {
   "cell_type": "markdown",
   "metadata": {
    "application/vnd.databricks.v1+cell": {
     "cellMetadata": {
      "byteLimit": 2048000,
      "rowLimit": 10000
     },
     "inputWidgets": {},
     "nuid": "ed7dff32-f8fc-4e67-b6d5-7cbfb0ee470a",
     "showTitle": false,
     "tableResultSettingsMap": {},
     "title": ""
    }
   },
   "source": [
    "## Carregando as tabelas da camada bronze\n"
   ]
  },
  {
   "cell_type": "code",
   "execution_count": 0,
   "metadata": {
    "application/vnd.databricks.v1+cell": {
     "cellMetadata": {
      "byteLimit": 2048000,
      "rowLimit": 10000
     },
     "inputWidgets": {},
     "nuid": "f27248a6-6b63-4fa7-9d7c-5a5133efd196",
     "showTitle": false,
     "tableResultSettingsMap": {},
     "title": ""
    }
   },
   "outputs": [],
   "source": [
    "# Carregar Bronze\n",
    "df_voos_silver = spark.read.format(\"delta\").load(\"dbfs:/Volumes/workspace/default/delta/bronze/flight/registro_voos\")\n",
    "df_codigos_silver = spark.read.format(\"delta\").load(\"dbfs:/Volumes/workspace/default/delta/bronze/flight/codigo_voos/\")\n"
   ]
  },
  {
   "cell_type": "markdown",
   "metadata": {
    "application/vnd.databricks.v1+cell": {
     "cellMetadata": {
      "byteLimit": 2048000,
      "rowLimit": 10000
     },
     "inputWidgets": {},
     "nuid": "0054abf8-754e-498e-9a0d-0116bb71147d",
     "showTitle": false,
     "tableResultSettingsMap": {},
     "title": ""
    }
   },
   "source": [
    "## Explorando as tabelas"
   ]
  },
  {
   "cell_type": "code",
   "execution_count": 0,
   "metadata": {
    "application/vnd.databricks.v1+cell": {
     "cellMetadata": {
      "byteLimit": 2048000,
      "implicitDf": true,
      "rowLimit": 10000
     },
     "inputWidgets": {},
     "nuid": "26b82986-4e65-4720-aa28-080f5dc131cc",
     "showTitle": false,
     "tableResultSettingsMap": {},
     "title": ""
    }
   },
   "outputs": [],
   "source": [
    "%py\n",
    "df_voos_silver.createOrReplaceTempView(\"df_voos_silver\")\n",
    "df_codigos_silver.createOrReplaceTempView(\"df_codigos_silver\")"
   ]
  },
  {
   "cell_type": "code",
   "execution_count": 0,
   "metadata": {
    "application/vnd.databricks.v1+cell": {
     "cellMetadata": {
      "byteLimit": 2048000,
      "implicitDf": true,
      "rowLimit": 10000
     },
     "inputWidgets": {},
     "nuid": "16894ed5-fe2f-4684-b237-0b7044571865",
     "showTitle": false,
     "tableResultSettingsMap": {},
     "title": ""
    }
   },
   "outputs": [],
   "source": [
    "%sql\n",
    "SELECT * FROM df_voos_silver LIMIT 10;"
   ]
  },
  {
   "cell_type": "code",
   "execution_count": 0,
   "metadata": {
    "application/vnd.databricks.v1+cell": {
     "cellMetadata": {
      "byteLimit": 2048000,
      "implicitDf": true,
      "rowLimit": 10000
     },
     "inputWidgets": {},
     "nuid": "86014a00-4265-4fcb-9b9c-04eaedad1440",
     "showTitle": false,
     "tableResultSettingsMap": {},
     "title": ""
    }
   },
   "outputs": [],
   "source": [
    "%sql\n",
    "SELECT * FROM df_codigos_silver LIMIT 10;"
   ]
  },
  {
   "cell_type": "code",
   "execution_count": 0,
   "metadata": {
    "application/vnd.databricks.v1+cell": {
     "cellMetadata": {
      "byteLimit": 2048000,
      "rowLimit": 10000
     },
     "inputWidgets": {},
     "nuid": "5cc6457f-0d96-4776-a585-4223f1b635c4",
     "showTitle": false,
     "tableResultSettingsMap": {
      "0": {
       "dataGridStateBlob": "{\"version\":1,\"tableState\":{\"columnPinning\":{\"left\":[\"#row_number#\"],\"right\":[]},\"columnSizing\":{},\"columnVisibility\":{}},\"settings\":{\"columns\":{}},\"syncTimestamp\":1760842776111}",
       "filterBlob": null,
       "queryPlanFiltersBlob": null,
       "tableResultIndex": 0
      }
     },
     "title": ""
    }
   },
   "outputs": [],
   "source": [
    "display(df_voos_silver.columns)\n"
   ]
  },
  {
   "cell_type": "code",
   "execution_count": 0,
   "metadata": {
    "application/vnd.databricks.v1+cell": {
     "cellMetadata": {
      "byteLimit": 2048000,
      "implicitDf": true,
      "rowLimit": 10000
     },
     "inputWidgets": {},
     "nuid": "d626813b-c5bc-4c8a-897d-7737d7ad4460",
     "showTitle": false,
     "tableResultSettingsMap": {},
     "title": ""
    }
   },
   "outputs": [],
   "source": [
    "%sql\n",
    "SELECT \n",
    "dv.date, dv.delay, dv.distance,\n",
    "dc.City city_origin, dc.State state_origin, dc.Country country_origin, dc.IATA cod_origin,\n",
    "do.City city_destination, do.State state_destination, do.Country country_destination, do.IATA cod_destination,\n",
    "CASE\n",
    "        WHEN dv.delay > 0 THEN \"Adiantado\"\n",
    "        WHEN dv.delay = 0 THEN \"A tempo\"\n",
    "        WHEN dv.delay < 0 THEN \"Atrasado\"\n",
    "        ELSE \"ERRO\"\n",
    "    END AS status_voo,\n",
    "CASE\n",
    "        WHEN do.Country  <> dc.Country THEN \"Internacional\"\n",
    "        WHEN do.Country = dc.Country THEN \"Nacional\"\n",
    "        ELSE \"ERRO\"\n",
    "    END AS nacionalidade_voo,\n",
    "CASE\n",
    "        WHEN do.State <> dc.State AND do.Country = dc.Country THEN True\n",
    "        WHEN do.State <> dc.State AND do.Country <> dc.Country THEN False\n",
    "        ELSE null\n",
    "    END AS interestadual\n",
    "FROM df_voos_silver dv \n",
    "LEFT JOIN df_codigos_silver dc ON dv.origin = dc.IATA \n",
    "LEFT JOIN df_codigos_silver do ON dv.destination = do.IATA \n",
    "LIMIT 50;\n"
   ]
  },
  {
   "cell_type": "code",
   "execution_count": 0,
   "metadata": {
    "application/vnd.databricks.v1+cell": {
     "cellMetadata": {
      "byteLimit": 2048000,
      "rowLimit": 10000
     },
     "inputWidgets": {},
     "nuid": "69daec19-dc7c-4035-a4c1-e4b4498c6d3d",
     "showTitle": false,
     "tableResultSettingsMap": {},
     "title": ""
    }
   },
   "outputs": [],
   "source": [
    "df_query = spark.sql(\"\"\"\n",
    "SELECT \n",
    "dv.date, dv.delay, dv.distance,\n",
    "dc.City city_origin, dc.State state_origin, dc.Country country_origin, dc.IATA cod_origin,\n",
    "do.City city_destination, do.State state_destination, do.Country country_destination, do.IATA cod_destination,\n",
    "CASE\n",
    "        WHEN dv.delay > 0 THEN \"Adiantado\"\n",
    "        WHEN dv.delay = 0 THEN \"A tempo\"\n",
    "        WHEN dv.delay < 0 THEN \"Atrasado\"\n",
    "        ELSE \"ERRO\"\n",
    "    END AS status_voo,\n",
    "CASE\n",
    "        WHEN do.Country  <> dc.Country THEN \"Internacional\"\n",
    "        WHEN do.Country = dc.Country THEN \"Nacional\"\n",
    "        ELSE \"ERRO\"\n",
    "    END AS nacionalidade_voo,\n",
    "CASE\n",
    "        WHEN do.State <> dc.State AND do.Country = dc.Country THEN True\n",
    "        WHEN do.State <> dc.State AND do.Country <> dc.Country THEN False\n",
    "        ELSE null\n",
    "    END AS interestadual\n",
    "FROM df_voos_silver dv \n",
    "LEFT JOIN df_codigos_silver dc ON dv.origin = dc.IATA \n",
    "LEFT JOIN df_codigos_silver do ON dv.destination = do.IATA \n",
    "\"\"\")\n"
   ]
  },
  {
   "cell_type": "code",
   "execution_count": 0,
   "metadata": {
    "application/vnd.databricks.v1+cell": {
     "cellMetadata": {
      "byteLimit": 2048000,
      "rowLimit": 10000
     },
     "inputWidgets": {},
     "nuid": "ecfc5e3d-37ab-44ce-a872-e7dcf5221ef9",
     "showTitle": false,
     "tableResultSettingsMap": {},
     "title": ""
    }
   },
   "outputs": [],
   "source": [
    "df_query.write.format(\"delta\") \\\n",
    "    .mode(\"overwrite\") \\\n",
    "    .option(\"mergeSchema\", \"true\") \\\n",
    "    .save(f\"{SILVER_PATH}/flight/dados_voo\")"
   ]
  }
 ],
 "metadata": {
  "application/vnd.databricks.v1+notebook": {
   "computePreferences": null,
   "dashboards": [],
   "environmentMetadata": {
    "base_environment": "",
    "environment_version": "4"
   },
   "inputWidgetPreferences": null,
   "language": "python",
   "notebookMetadata": {
    "mostRecentlyExecutedCommandWithImplicitDF": {
     "commandId": 5952386204306007,
     "dataframes": [
      "_sqldf"
     ]
    },
    "pythonIndentUnit": 4
   },
   "notebookName": "02_silver_layer",
   "widgets": {}
  },
  "language_info": {
   "name": "python"
  }
 },
 "nbformat": 4,
 "nbformat_minor": 0
}
