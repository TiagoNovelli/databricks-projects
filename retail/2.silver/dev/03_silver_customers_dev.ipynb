{
 "cells": [
  {
   "cell_type": "markdown",
   "metadata": {
    "application/vnd.databricks.v1+cell": {
     "cellMetadata": {
      "byteLimit": 2048000,
      "rowLimit": 10000
     },
     "inputWidgets": {},
     "nuid": "8f1eea72-2858-4d93-bdac-2feb64962725",
     "showTitle": false,
     "tableResultSettingsMap": {},
     "title": ""
    }
   },
   "source": [
    "## Bronze Layer"
   ]
  },
  {
   "cell_type": "markdown",
   "metadata": {
    "application/vnd.databricks.v1+cell": {
     "cellMetadata": {
      "byteLimit": 2048000,
      "implicitDf": true,
      "rowLimit": 10000
     },
     "inputWidgets": {},
     "nuid": "ebcbd93b-e286-4a5b-9563-014f974abf06",
     "showTitle": false,
     "tableResultSettingsMap": {},
     "title": ""
    }
   },
   "source": [
    "#### Criei um volume delta já que no free tier o acesso a mnt/ é negado"
   ]
  },
  {
   "cell_type": "markdown",
   "metadata": {
    "application/vnd.databricks.v1+cell": {
     "cellMetadata": {
      "byteLimit": 2048000,
      "rowLimit": 10000
     },
     "inputWidgets": {},
     "nuid": "8fb04f10-de33-4d64-a108-0d380a2c7b2f",
     "showTitle": false,
     "tableResultSettingsMap": {},
     "title": ""
    }
   },
   "source": [
    "#### Verificando os dados de teste disponíveis"
   ]
  },
  {
   "cell_type": "code",
   "execution_count": 0,
   "metadata": {
    "application/vnd.databricks.v1+cell": {
     "cellMetadata": {
      "byteLimit": 2048000,
      "rowLimit": 10000
     },
     "inputWidgets": {},
     "nuid": "4060415b-f508-4d43-ba5a-5dc742836b37",
     "showTitle": false,
     "tableResultSettingsMap": {},
     "title": ""
    }
   },
   "outputs": [],
   "source": [
    "%py\n",
    "# Definir caminhos base\n",
    "# BRONZE_PATH = \"/mnt/delta/bronze\"\n",
    "BRONZE_PATH = \"/Volumes/workspace/default/delta/bronze/retail\"\n",
    "SILVER_PATH = \"/Volumes/workspace/default/delta/silver/retail\"\n",
    "\n",
    "\n",
    "# Criando diretório Silver\n",
    "# Definir caminhos base\n"
   ]
  },
  {
   "cell_type": "code",
   "execution_count": 0,
   "metadata": {
    "application/vnd.databricks.v1+cell": {
     "cellMetadata": {
      "byteLimit": 2048000,
      "rowLimit": 10000
     },
     "inputWidgets": {},
     "nuid": "e0a3ef60-5c8c-4f83-b69b-43efa550795f",
     "showTitle": false,
     "tableResultSettingsMap": {},
     "title": ""
    }
   },
   "outputs": [],
   "source": [
    "display(dbutils.fs.ls(BRONZE_PATH))\n"
   ]
  },
  {
   "cell_type": "markdown",
   "metadata": {
    "application/vnd.databricks.v1+cell": {
     "cellMetadata": {
      "byteLimit": 2048000,
      "rowLimit": 10000
     },
     "inputWidgets": {},
     "nuid": "16d38f18-2b66-411e-8938-40bf7f02ff34",
     "showTitle": false,
     "tableResultSettingsMap": {},
     "title": ""
    }
   },
   "source": [
    "### Dataset retail silver\n"
   ]
  },
  {
   "cell_type": "code",
   "execution_count": 0,
   "metadata": {
    "application/vnd.databricks.v1+cell": {
     "cellMetadata": {
      "byteLimit": 2048000,
      "rowLimit": 10000
     },
     "inputWidgets": {},
     "nuid": "5d02ad07-65bc-47c5-8354-cce828cca1da",
     "showTitle": false,
     "tableResultSettingsMap": {},
     "title": ""
    }
   },
   "outputs": [],
   "source": [
    "silver_map = {\n",
    "    \"tmp_customers\": f\"{BRONZE_PATH}/customers\",\n",
    "    \"tmp_company_employees\": f\"{BRONZE_PATH}/company_employees\",\n",
    "    \"tmp_active_promotions\": f\"{BRONZE_PATH}/active_promotions\",\n",
    "    \"tmp_loyalty_segment\": f\"{BRONZE_PATH}/loyalty_segment\",\n",
    "    \"tmp_products\": f\"{BRONZE_PATH}/products\",\n",
    "    \"tmp_promotions\": f\"{BRONZE_PATH}/promotions\",\n",
    "    \"tmp_purchase_orders\": f\"{BRONZE_PATH}/purchase_orders\",\n",
    "    \"tmp_sales_orders\": f\"{BRONZE_PATH}/sales_orders\",\n",
    "    \"tmp_sales_stream\": f\"{BRONZE_PATH}/sales_stream\",\n",
    "    \"tmp_suppliers\": f\"{BRONZE_PATH}/suppliers\"\n",
    "}\n",
    "\n",
    "for view_name, path in silver_map.items():\n",
    "    print(f\"Loading {view_name} from {path}\")\n",
    "    spark.read.format(\"delta\").load(path).createOrReplaceTempView(view_name)\n",
    "# DBTITLE 1,customers"
   ]
  },
  {
   "cell_type": "code",
   "execution_count": 0,
   "metadata": {
    "application/vnd.databricks.v1+cell": {
     "cellMetadata": {
      "byteLimit": 2048000,
      "implicitDf": true,
      "rowLimit": 10000
     },
     "inputWidgets": {},
     "nuid": "9a95ea78-04f8-4814-95e8-89b80aa0bc29",
     "showTitle": false,
     "tableResultSettingsMap": {},
     "title": ""
    }
   },
   "outputs": [],
   "source": [
    "%sql\n",
    "SELECT * FROM tmp_loyalty_segment;"
   ]
  },
  {
   "cell_type": "markdown",
   "metadata": {
    "application/vnd.databricks.v1+cell": {
     "cellMetadata": {},
     "inputWidgets": {},
     "nuid": "2c4e4eec-555e-40c6-baa9-772c98126f6a",
     "showTitle": false,
     "tableResultSettingsMap": {},
     "title": ""
    }
   },
   "source": [
    "### Lendo as tabelas"
   ]
  },
  {
   "cell_type": "code",
   "execution_count": 0,
   "metadata": {
    "application/vnd.databricks.v1+cell": {
     "cellMetadata": {
      "byteLimit": 2048000,
      "implicitDf": true,
      "rowLimit": 10000
     },
     "inputWidgets": {},
     "nuid": "868151d0-5fd6-416a-a36e-02d21957795b",
     "showTitle": false,
     "tableResultSettingsMap": {
      "0": {
       "dataGridStateBlob": "{\"version\":1,\"tableState\":{\"columnPinning\":{\"left\":[\"#row_number#\"],\"right\":[]},\"columnSizing\":{},\"columnVisibility\":{}},\"settings\":{\"columns\":{}},\"syncTimestamp\":1760930307403}",
       "filterBlob": null,
       "queryPlanFiltersBlob": null,
       "tableResultIndex": 0
      }
     },
     "title": ""
    }
   },
   "outputs": [],
   "source": [
    "%sql\n",
    "SELECT * FROM tmp_customers as tc\n",
    "LEFT JOIN tmp_loyalty_segment as tls\n",
    "ON tc.loyalty_segment = tls.loyalty_segment_id\n",
    ";"
   ]
  },
  {
   "cell_type": "code",
   "execution_count": 0,
   "metadata": {
    "application/vnd.databricks.v1+cell": {
     "cellMetadata": {},
     "inputWidgets": {},
     "nuid": "ac8f8648-3bbc-4cd7-be37-f1b56b73c64c",
     "showTitle": false,
     "tableResultSettingsMap": {},
     "title": ""
    }
   },
   "outputs": [],
   "source": [
    "'https://nominatim.openstreetmap.org/reverse?lat=-23.55052&lon=-46.633308&format=json'"
   ]
  },
  {
   "cell_type": "code",
   "execution_count": 0,
   "metadata": {
    "application/vnd.databricks.v1+cell": {
     "cellMetadata": {
      "byteLimit": 2048000,
      "rowLimit": 10000
     },
     "inputWidgets": {},
     "nuid": "96ced926-6879-43bf-9895-af8cd8e80e6d",
     "showTitle": false,
     "tableResultSettingsMap": {},
     "title": ""
    }
   },
   "outputs": [],
   "source": [
    "from pyspark.sql import functions as F\n",
    "\n",
    "# Supondo que seu DataFrame bronze é df_bronze\n",
    "df_silver = (\n",
    "    _sqldf \n",
    "    # remove .0 e espaços desnecessários\n",
    "    .withColumn(\"ship_to_address_clean\",\n",
    "        F.trim(F.regexp_replace(\"ship_to_address\", r\"\\.0\", \"\"))\n",
    "    )\n",
    "    # quebra o texto em até 4 partes (por vírgula)\n",
    "    .withColumn(\"address_parts\", F.split(F.col(\"ship_to_address_clean\"), \",\\\\s*\"))\n",
    "    # cria as colunas separadas\n",
    "    .withColumn(\"state_ship\", F.col(\"address_parts\")[0])\n",
    "    .withColumn(\"postcode_ship\", F.col(\"address_parts\")[1])\n",
    "    .withColumn(\"street_ship\", F.col(\"address_parts\")[2])\n",
    "    .withColumn(\"number_ship\", F.col(\"address_parts\")[3])\n",
    "    # opcional: limpa “nan”, “null” e zeros falsos\n",
    "    # 1️⃣ Limpa “nan”, “null”, “None”, “0” e caracteres estranhos\n",
    "    .withColumn(\"state_ship\", F.when(F.col(\"state_ship\").isin(\"nan\", \"null\", \"None\", \"0\"), \"\").otherwise(F.col(\"state_ship\")))\n",
    "    .withColumn(\"postcode_ship\", F.regexp_replace(\"postcode_ship\", r\"[^0-9]\", \"\"))\n",
    "    .withColumn(\"street_ship\", F.when(F.col(\"street_ship\").isin(\"nan\", \"null\", \"None\", \"0\"), \"\").otherwise(F.col(\"street_ship\")))\n",
    "    .withColumn(\"number_ship\", F.regexp_replace(\"number_ship\", r\"[^A-Za-z0-9\\- ]\", \"\"))\n",
    "    .withColumn(\"number_ship\", F.trim(F.regexp_replace(\"number_ship\", r\"\\.0\", \"\")))\n",
    "\n",
    "    # 2️⃣ Preenche com valores originais quando o ship_to_address estiver incompleto\n",
    "    .withColumn(\n",
    "        \"state_ship\",\n",
    "        F.when(\n",
    "            (F.col(\"state_ship\").isNull()) | \n",
    "            (F.trim(F.col(\"state_ship\")) == \"\") |\n",
    "            (F.lower(F.col(\"state_ship\")).isin(\"nan\", \"null\", \"none\", \"0\")),\n",
    "            F.col(\"state\")\n",
    "        ).otherwise(F.col(\"state_ship\"))\n",
    "    )\n",
    "    .withColumn(\n",
    "        \"postcode_ship\",\n",
    "        F.when(\n",
    "            (F.col(\"postcode_ship\").isNull()) | \n",
    "            (F.trim(F.col(\"postcode_ship\")) == \"\") |\n",
    "            (F.lower(F.col(\"postcode_ship\")).isin(\"nan\", \"null\", \"none\", \"0\")),\n",
    "            F.col(\"postcode\")\n",
    "        ).otherwise(F.col(\"postcode_ship\"))\n",
    "    )\n",
    "    .withColumn(\n",
    "        \"street_ship\",\n",
    "        F.when(\n",
    "            (F.col(\"street_ship\").isNull()) | \n",
    "            (F.trim(F.col(\"street_ship\")) == \"\") |\n",
    "            (F.lower(F.col(\"street_ship\")).isin(\"nan\", \"null\", \"none\", \"0\")),\n",
    "            F.col(\"street\")\n",
    "        ).otherwise(F.col(\"street_ship\"))\n",
    "    )\n",
    "    .withColumn(\n",
    "        \"number_ship\",\n",
    "        F.when(\n",
    "            (F.col(\"number_ship\").isNull()) | \n",
    "            (F.trim(F.col(\"number_ship\")) == \"\") |\n",
    "            (F.lower(F.col(\"number_ship\")).isin(\"nan\", \"null\", \"none\", \"0\")),\n",
    "            F.col(\"number\")\n",
    "        ).otherwise(F.col(\"number_ship\"))\n",
    "    )\n",
    "    .drop(\"address_parts\", \"ship_to_address_clean\", \"tax_id\", \"tax_code\", \"state\", \"city\", \"postcode\", \"number\", \"unit\", \"region\", \"district\", \"valid_from\", \"valid_to\", \"street\", \"loyalty_segment_id\", \"ship_to_address\")\n",
    ")\n"
   ]
  },
  {
   "cell_type": "code",
   "execution_count": 0,
   "metadata": {
    "application/vnd.databricks.v1+cell": {
     "cellMetadata": {
      "byteLimit": 2048000,
      "rowLimit": 10000
     },
     "inputWidgets": {},
     "nuid": "8a44fa81-7641-4325-9716-8dc6278f23e1",
     "showTitle": false,
     "tableResultSettingsMap": {},
     "title": ""
    }
   },
   "outputs": [],
   "source": [
    "display(df_silver.columns)"
   ]
  },
  {
   "cell_type": "code",
   "execution_count": 0,
   "metadata": {
    "application/vnd.databricks.v1+cell": {
     "cellMetadata": {
      "byteLimit": 2048000,
      "implicitDf": true,
      "rowLimit": 10000
     },
     "inputWidgets": {},
     "nuid": "1bd030ce-d5e1-4e68-98bd-56452bf2fe6e",
     "showTitle": false,
     "tableResultSettingsMap": {},
     "title": ""
    }
   },
   "outputs": [],
   "source": [
    "(\n",
    "    df_silver\n",
    "    .write\n",
    "    .format(\"delta\")\n",
    "    .mode(\"overwrite\")  # ou \"append\" se quiser acrescentar\n",
    "    .saveAsTable(\"workspace.retail.silver_customers\")\n",
    ")\n"
   ]
  },
  {
   "cell_type": "code",
   "execution_count": 0,
   "metadata": {
    "application/vnd.databricks.v1+cell": {
     "cellMetadata": {
      "byteLimit": 2048000,
      "implicitDf": true,
      "rowLimit": 10000
     },
     "inputWidgets": {},
     "nuid": "292f0d73-689c-4ba2-afe8-377de8d68eb4",
     "showTitle": false,
     "tableResultSettingsMap": {},
     "title": ""
    }
   },
   "outputs": [],
   "source": [
    "%sql\n",
    "select * from workspace.retail.silver_customers"
   ]
  }
 ],
 "metadata": {
  "application/vnd.databricks.v1+notebook": {
   "computePreferences": null,
   "dashboards": [],
   "environmentMetadata": {
    "base_environment": "",
    "environment_version": "4"
   },
   "inputWidgetPreferences": null,
   "language": "python",
   "notebookMetadata": {
    "mostRecentlyExecutedCommandWithImplicitDF": {
     "commandId": 8261813037512891,
     "dataframes": [
      "_sqldf"
     ]
    },
    "pythonIndentUnit": 4
   },
   "notebookName": "03_silver_customers_dev",
   "widgets": {}
  },
  "language_info": {
   "name": "python"
  }
 },
 "nbformat": 4,
 "nbformat_minor": 0
}
