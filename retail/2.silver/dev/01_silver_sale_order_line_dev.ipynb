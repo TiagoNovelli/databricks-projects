{
 "cells": [
  {
   "cell_type": "markdown",
   "metadata": {
    "application/vnd.databricks.v1+cell": {
     "cellMetadata": {
      "byteLimit": 2048000,
      "rowLimit": 10000
     },
     "inputWidgets": {},
     "nuid": "8f1eea72-2858-4d93-bdac-2feb64962725",
     "showTitle": false,
     "tableResultSettingsMap": {},
     "title": ""
    }
   },
   "source": [
    "## Bronze Layer"
   ]
  },
  {
   "cell_type": "markdown",
   "metadata": {
    "application/vnd.databricks.v1+cell": {
     "cellMetadata": {
      "byteLimit": 2048000,
      "implicitDf": true,
      "rowLimit": 10000
     },
     "inputWidgets": {},
     "nuid": "ebcbd93b-e286-4a5b-9563-014f974abf06",
     "showTitle": false,
     "tableResultSettingsMap": {},
     "title": ""
    }
   },
   "source": [
    "#### Criei um volume delta já que no free tier o acesso a mnt/ é negado"
   ]
  },
  {
   "cell_type": "markdown",
   "metadata": {
    "application/vnd.databricks.v1+cell": {
     "cellMetadata": {
      "byteLimit": 2048000,
      "rowLimit": 10000
     },
     "inputWidgets": {},
     "nuid": "8fb04f10-de33-4d64-a108-0d380a2c7b2f",
     "showTitle": false,
     "tableResultSettingsMap": {},
     "title": ""
    }
   },
   "source": [
    "#### Verificando os dados de teste disponíveis"
   ]
  },
  {
   "cell_type": "code",
   "execution_count": 0,
   "metadata": {
    "application/vnd.databricks.v1+cell": {
     "cellMetadata": {
      "byteLimit": 2048000,
      "rowLimit": 10000
     },
     "inputWidgets": {},
     "nuid": "4060415b-f508-4d43-ba5a-5dc742836b37",
     "showTitle": false,
     "tableResultSettingsMap": {},
     "title": ""
    }
   },
   "outputs": [],
   "source": [
    "%py\n",
    "# Definir caminhos base\n",
    "# BRONZE_PATH = \"/mnt/delta/bronze\"\n",
    "BRONZE_PATH = \"/Volumes/workspace/default/delta/bronze/retail\"\n",
    "SILVER_PATH = \"/Volumes/workspace/default/delta/silver/retail\"\n",
    "\n",
    "\n",
    "# Criando diretório Silver\n",
    "# Definir caminhos base\n",
    "\n",
    "# Criar diretórios se não existirem\n",
    "dbutils.fs.mkdirs(SILVER_PATH)\n"
   ]
  },
  {
   "cell_type": "code",
   "execution_count": 0,
   "metadata": {
    "application/vnd.databricks.v1+cell": {
     "cellMetadata": {
      "byteLimit": 2048000,
      "rowLimit": 10000
     },
     "inputWidgets": {},
     "nuid": "e0a3ef60-5c8c-4f83-b69b-43efa550795f",
     "showTitle": false,
     "tableResultSettingsMap": {},
     "title": ""
    }
   },
   "outputs": [],
   "source": [
    "display(dbutils.fs.ls(BRONZE_PATH))\n"
   ]
  },
  {
   "cell_type": "markdown",
   "metadata": {
    "application/vnd.databricks.v1+cell": {
     "cellMetadata": {
      "byteLimit": 2048000,
      "rowLimit": 10000
     },
     "inputWidgets": {},
     "nuid": "16d38f18-2b66-411e-8938-40bf7f02ff34",
     "showTitle": false,
     "tableResultSettingsMap": {},
     "title": ""
    }
   },
   "source": [
    "### Dataset retail silver\n"
   ]
  },
  {
   "cell_type": "code",
   "execution_count": 0,
   "metadata": {
    "application/vnd.databricks.v1+cell": {
     "cellMetadata": {
      "byteLimit": 2048000,
      "rowLimit": 10000
     },
     "inputWidgets": {},
     "nuid": "5d02ad07-65bc-47c5-8354-cce828cca1da",
     "showTitle": false,
     "tableResultSettingsMap": {},
     "title": ""
    }
   },
   "outputs": [],
   "source": [
    "silver_map = {\n",
    "    \"tmp_customers\": f\"{BRONZE_PATH}/customers\",\n",
    "    \"tmp_company_employees\": f\"{BRONZE_PATH}/company_employees\",\n",
    "    \"tmp_active_promotions\": f\"{BRONZE_PATH}/active_promotions\",\n",
    "    \"tmp_loyalty_segment\": f\"{BRONZE_PATH}/loyalty_segment\",\n",
    "    \"tmp_products\": f\"{BRONZE_PATH}/products\",\n",
    "    \"tmp_promotions\": f\"{BRONZE_PATH}/promotions\",\n",
    "    \"tmp_purchase_orders\": f\"{BRONZE_PATH}/purchase_orders\",\n",
    "    \"tmp_sales_orders\": f\"{BRONZE_PATH}/sales_orders\",\n",
    "    \"tmp_sales_stream\": f\"{BRONZE_PATH}/sales_stream\",\n",
    "    \"tmp_suppliers\": f\"{BRONZE_PATH}/suppliers\"\n",
    "}\n",
    "\n",
    "for view_name, path in silver_map.items():\n",
    "    print(f\"Loading {view_name} from {path}\")\n",
    "    spark.read.format(\"delta\").load(path).createOrReplaceTempView(view_name)\n",
    "# DBTITLE 1,customers"
   ]
  },
  {
   "cell_type": "markdown",
   "metadata": {
    "application/vnd.databricks.v1+cell": {
     "cellMetadata": {},
     "inputWidgets": {},
     "nuid": "2c4e4eec-555e-40c6-baa9-772c98126f6a",
     "showTitle": false,
     "tableResultSettingsMap": {},
     "title": ""
    }
   },
   "source": [
    "### Lendo as tabelas"
   ]
  },
  {
   "cell_type": "code",
   "execution_count": 0,
   "metadata": {
    "application/vnd.databricks.v1+cell": {
     "cellMetadata": {
      "byteLimit": 2048000,
      "implicitDf": true,
      "rowLimit": 10000
     },
     "inputWidgets": {},
     "nuid": "089b5b44-999a-4e18-afbb-5a5fc10eefa0",
     "showTitle": false,
     "tableResultSettingsMap": {},
     "title": ""
    }
   },
   "outputs": [],
   "source": [
    "%sql\n",
    "SELECT * FROM tmp_sales_orders  LIMIT 15;\n",
    "-- cada instancia de sale_order comtem uma lista de itens clicados durante esse compra\n",
    "-- cada instancia de sale_order comtem uma lista de produtos comprados durante esse compra\n",
    "-- cada instancia de sale_order comtem uma lista de promoções aplicadas ou não para algum produto durante esse compra"
   ]
  },
  {
   "cell_type": "code",
   "execution_count": 0,
   "metadata": {
    "application/vnd.databricks.v1+cell": {
     "cellMetadata": {
      "byteLimit": 2048000,
      "implicitDf": true,
      "rowLimit": 10000
     },
     "inputWidgets": {},
     "nuid": "c7a1beaa-3aab-45c7-9850-a92452a2e1d5",
     "showTitle": false,
     "tableResultSettingsMap": {},
     "title": ""
    }
   },
   "outputs": [],
   "source": [
    "%sql\n",
    "-- EXPLODIR CLICKED_ITEMS (Array de Arrays)\n",
    "SELECT \n",
    "    order_number,\n",
    "    customer_id,\n",
    "    clicked_item[0] AS product_id,\n",
    "    clicked_item[1] AS click_count\n",
    "FROM tmp_sales_orders\n",
    "LATERAL VIEW explode(clicked_items) AS clicked_item\n"
   ]
  },
  {
   "cell_type": "code",
   "execution_count": 0,
   "metadata": {
    "application/vnd.databricks.v1+cell": {
     "cellMetadata": {
      "byteLimit": 2048000,
      "implicitDf": true,
      "rowLimit": 10000
     },
     "inputWidgets": {},
     "nuid": "9a6ff603-9dbd-4535-ba5e-babe91108722",
     "showTitle": false,
     "tableResultSettingsMap": {},
     "title": ""
    }
   },
   "outputs": [],
   "source": [
    "%sql\n",
    "-- EXPLODIR ORDERED_PRODUCTS (Array de Structs)\n",
    "SELECT \n",
    "    order_number,\n",
    "    customer_name,\n",
    "    order_datetime,\n",
    "    product.id as product_id,\n",
    "    product.name as product_name,\n",
    "    product.price as product_price,\n",
    "    product.qty as quantity,\n",
    "    product.curr as currency,\n",
    "    product.unit as unit\n",
    "FROM tmp_sales_orders\n",
    "LATERAL VIEW explode(ordered_products) as product;"
   ]
  },
  {
   "cell_type": "code",
   "execution_count": 0,
   "metadata": {
    "application/vnd.databricks.v1+cell": {
     "cellMetadata": {
      "byteLimit": 2048000,
      "implicitDf": true,
      "rowLimit": 10000
     },
     "inputWidgets": {},
     "nuid": "f79b5177-ae4d-4eaf-bd31-55ce2c324fed",
     "showTitle": false,
     "tableResultSettingsMap": {
      "0": {
       "dataGridStateBlob": "{\"version\":1,\"tableState\":{\"columnPinning\":{\"left\":[\"#row_number#\"],\"right\":[]},\"columnSizing\":{},\"columnVisibility\":{}},\"settings\":{\"columns\":{}},\"syncTimestamp\":1760924865115}",
       "filterBlob": null,
       "queryPlanFiltersBlob": null,
       "tableResultIndex": 0
      }
     },
     "title": ""
    }
   },
   "outputs": [],
   "source": [
    "%sql\n",
    "-- EXPLODIR ORDERED_PRODUCTS (Array de Structs)\n",
    "SELECT \n",
    "    order_number,\n",
    "    promo.promo_id,\n",
    "    promo.promo_item as product_id,\n",
    "    promo.promo_qty as promo_quantity,\n",
    "    promo.promo_disc as discount_rate\n",
    "FROM tmp_sales_orders\n",
    "LATERAL VIEW explode(promo_info) as promo\n",
    "WHERE size(promo_info) > 0;"
   ]
  },
  {
   "cell_type": "code",
   "execution_count": 0,
   "metadata": {
    "application/vnd.databricks.v1+cell": {
     "cellMetadata": {
      "byteLimit": 2048000,
      "implicitDf": true,
      "rowLimit": 10000
     },
     "inputWidgets": {},
     "nuid": "678531cd-d5d8-4a96-b783-564b793e3301",
     "showTitle": false,
     "tableResultSettingsMap": {},
     "title": ""
    }
   },
   "outputs": [],
   "source": [
    "%sql\n",
    "DESCRIBE tmp_sales_orders;\n"
   ]
  },
  {
   "cell_type": "code",
   "execution_count": 0,
   "metadata": {
    "application/vnd.databricks.v1+cell": {
     "cellMetadata": {
      "byteLimit": 2048000,
      "implicitDf": true,
      "rowLimit": 10000
     },
     "inputWidgets": {},
     "nuid": "f1fbcaba-57da-4bb7-b7ed-401d218a0e96",
     "showTitle": false,
     "tableResultSettingsMap": {
      "0": {
       "dataGridStateBlob": "{\"version\":1,\"tableState\":{\"columnPinning\":{\"left\":[\"#row_number#\"],\"right\":[]},\"columnSizing\":{},\"columnVisibility\":{}},\"settings\":{\"columns\":{}},\"syncTimestamp\":1760922868299}",
       "filterBlob": null,
       "queryPlanFiltersBlob": null,
       "tableResultIndex": 0
      }
     },
     "title": ""
    }
   },
   "outputs": [],
   "source": [
    "%sql\n",
    "WITH products AS (\n",
    "    SELECT \n",
    "        order_number,\n",
    "        customer_name,\n",
    "        order_datetime,\n",
    "        product.id AS product_id,\n",
    "        product.name AS product_name,\n",
    "        product.price AS product_price,\n",
    "        product.qty AS quantity,\n",
    "        product.curr AS currency,\n",
    "        product.unit AS unit\n",
    "    FROM tmp_sales_orders\n",
    "    LATERAL VIEW explode(ordered_products) AS product\n",
    "),\n",
    "\n",
    "promotions AS (\n",
    "    SELECT \n",
    "        order_number,\n",
    "        promo.promo_id,\n",
    "        promo.promo_item AS product_id,\n",
    "        promo.promo_qty AS promo_quantity,\n",
    "        promo.promo_disc AS discount_rate\n",
    "    FROM tmp_sales_orders\n",
    "    LATERAL VIEW explode(promo_info) AS promo\n",
    "    WHERE size(promo_info) > 0\n",
    "),\n",
    "\n",
    "clicks AS (\n",
    "        SELECT \n",
    "        order_number,\n",
    "        customer_id,\n",
    "        clicked_item[0] AS product_id,\n",
    "        clicked_item[1] AS click_count\n",
    "    FROM tmp_sales_orders ck\n",
    "    LATERAL VIEW explode(clicked_items) AS clicked_item\n",
    ")\n",
    "\n",
    "SELECT \n",
    "    p.order_number,\n",
    "    p.customer_name,\n",
    "    p.customer_id,\n",
    "    p.order_datetime,\n",
    "    ci.click_count,\n",
    "    p.product_id,\n",
    "    p.product_name,\n",
    "    p.product_price,\n",
    "    p.quantity,\n",
    "    p.currency,\n",
    "    p.unit,\n",
    "    pr.promo_id,\n",
    "    pr.promo_quantity,\n",
    "    pr.discount_rate,\n",
    "    p.product_price * p.quantity as total_estimated_price,\n",
    "    ROUND(p.product_price * pr.promo_quantity * (1 - pr.discount_rate), 2) as value_with_dicount,\n",
    "    ROUND(p.product_price * pr.promo_quantity * (pr.discount_rate), 2) as dicount_value,\n",
    "    CASE \n",
    "        WHEN pr.promo_id IS NULL THEN ROUND((p.product_price * p.quantity), 2)\n",
    "        ELSE ROUND((p.product_price * p.quantity) - pr.promo_quantity * (pr.discount_rate), 2)\n",
    "    END AS sale_value\n",
    "FROM products p\n",
    "LEFT JOIN promotions pr\n",
    "    ON p.order_number = pr.order_number\n",
    "   AND p.product_id = pr.product_id\n",
    "LEFT JOIN clicks ci\n",
    "    ON p.order_number = ci.order_number\n",
    "   AND p.product_id = ci.product_id\n"
   ]
  }
 ],
 "metadata": {
  "application/vnd.databricks.v1+notebook": {
   "computePreferences": null,
   "dashboards": [],
   "environmentMetadata": {
    "base_environment": "",
    "environment_version": "4"
   },
   "inputWidgetPreferences": null,
   "language": "python",
   "notebookMetadata": {
    "mostRecentlyExecutedCommandWithImplicitDF": {
     "commandId": 7770178621275640,
     "dataframes": [
      "_sqldf"
     ]
    },
    "pythonIndentUnit": 4
   },
   "notebookName": "01_silver_sale_order_line_dev",
   "widgets": {}
  },
  "language_info": {
   "name": "python"
  }
 },
 "nbformat": 4,
 "nbformat_minor": 0
}
