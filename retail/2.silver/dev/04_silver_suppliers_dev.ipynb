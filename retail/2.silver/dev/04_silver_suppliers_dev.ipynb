{
 "cells": [
  {
   "cell_type": "markdown",
   "metadata": {
    "application/vnd.databricks.v1+cell": {
     "cellMetadata": {
      "byteLimit": 2048000,
      "rowLimit": 10000
     },
     "inputWidgets": {},
     "nuid": "8f1eea72-2858-4d93-bdac-2feb64962725",
     "showTitle": false,
     "tableResultSettingsMap": {},
     "title": ""
    }
   },
   "source": [
    "## Bronze Layer"
   ]
  },
  {
   "cell_type": "markdown",
   "metadata": {
    "application/vnd.databricks.v1+cell": {
     "cellMetadata": {
      "byteLimit": 2048000,
      "implicitDf": true,
      "rowLimit": 10000
     },
     "inputWidgets": {},
     "nuid": "ebcbd93b-e286-4a5b-9563-014f974abf06",
     "showTitle": false,
     "tableResultSettingsMap": {},
     "title": ""
    }
   },
   "source": [
    "#### Criei um volume delta já que no free tier o acesso a mnt/ é negado"
   ]
  },
  {
   "cell_type": "markdown",
   "metadata": {
    "application/vnd.databricks.v1+cell": {
     "cellMetadata": {
      "byteLimit": 2048000,
      "rowLimit": 10000
     },
     "inputWidgets": {},
     "nuid": "8fb04f10-de33-4d64-a108-0d380a2c7b2f",
     "showTitle": false,
     "tableResultSettingsMap": {},
     "title": ""
    }
   },
   "source": [
    "#### Verificando os dados de teste disponíveis"
   ]
  },
  {
   "cell_type": "code",
   "execution_count": 0,
   "metadata": {
    "application/vnd.databricks.v1+cell": {
     "cellMetadata": {
      "byteLimit": 2048000,
      "rowLimit": 10000
     },
     "inputWidgets": {},
     "nuid": "4060415b-f508-4d43-ba5a-5dc742836b37",
     "showTitle": false,
     "tableResultSettingsMap": {},
     "title": ""
    }
   },
   "outputs": [],
   "source": [
    "%py\n",
    "# Definir caminhos base\n",
    "# BRONZE_PATH = \"/mnt/delta/bronze\"\n",
    "BRONZE_PATH = \"/Volumes/workspace/default/delta/bronze/retail\"\n",
    "SILVER_PATH = \"/Volumes/workspace/default/delta/silver/retail\"\n",
    "\n",
    "\n",
    "# Criando diretório Silver\n",
    "# Definir caminhos base\n"
   ]
  },
  {
   "cell_type": "code",
   "execution_count": 0,
   "metadata": {
    "application/vnd.databricks.v1+cell": {
     "cellMetadata": {
      "byteLimit": 2048000,
      "rowLimit": 10000
     },
     "inputWidgets": {},
     "nuid": "e0a3ef60-5c8c-4f83-b69b-43efa550795f",
     "showTitle": false,
     "tableResultSettingsMap": {},
     "title": ""
    }
   },
   "outputs": [],
   "source": [
    "display(dbutils.fs.ls(BRONZE_PATH))\n"
   ]
  },
  {
   "cell_type": "markdown",
   "metadata": {
    "application/vnd.databricks.v1+cell": {
     "cellMetadata": {
      "byteLimit": 2048000,
      "rowLimit": 10000
     },
     "inputWidgets": {},
     "nuid": "16d38f18-2b66-411e-8938-40bf7f02ff34",
     "showTitle": false,
     "tableResultSettingsMap": {},
     "title": ""
    }
   },
   "source": [
    "### Dataset retail silver\n"
   ]
  },
  {
   "cell_type": "code",
   "execution_count": 0,
   "metadata": {
    "application/vnd.databricks.v1+cell": {
     "cellMetadata": {
      "byteLimit": 2048000,
      "rowLimit": 10000
     },
     "inputWidgets": {},
     "nuid": "5d02ad07-65bc-47c5-8354-cce828cca1da",
     "showTitle": false,
     "tableResultSettingsMap": {},
     "title": ""
    }
   },
   "outputs": [],
   "source": [
    "silver_map = {\n",
    "    \"tmp_customers\": f\"{BRONZE_PATH}/customers\",\n",
    "    \"tmp_company_employees\": f\"{BRONZE_PATH}/company_employees\",\n",
    "    \"tmp_active_promotions\": f\"{BRONZE_PATH}/active_promotions\",\n",
    "    \"tmp_loyalty_segment\": f\"{BRONZE_PATH}/loyalty_segment\",\n",
    "    \"tmp_products\": f\"{BRONZE_PATH}/products\",\n",
    "    \"tmp_promotions\": f\"{BRONZE_PATH}/promotions\",\n",
    "    \"tmp_purchase_orders\": f\"{BRONZE_PATH}/purchase_orders\",\n",
    "    \"tmp_sales_orders\": f\"{BRONZE_PATH}/sales_orders\",\n",
    "    \"tmp_sales_stream\": f\"{BRONZE_PATH}/sales_stream\",\n",
    "    \"tmp_suppliers\": f\"{BRONZE_PATH}/suppliers\"\n",
    "}\n",
    "\n",
    "for view_name, path in silver_map.items():\n",
    "    print(f\"Loading {view_name} from {path}\")\n",
    "    spark.read.format(\"delta\").load(path).createOrReplaceTempView(view_name)\n",
    "# DBTITLE 1,customers"
   ]
  },
  {
   "cell_type": "markdown",
   "metadata": {
    "application/vnd.databricks.v1+cell": {
     "cellMetadata": {},
     "inputWidgets": {},
     "nuid": "2c4e4eec-555e-40c6-baa9-772c98126f6a",
     "showTitle": false,
     "tableResultSettingsMap": {},
     "title": ""
    }
   },
   "source": [
    "### Lendo as tabelas"
   ]
  },
  {
   "cell_type": "code",
   "execution_count": 0,
   "metadata": {
    "application/vnd.databricks.v1+cell": {
     "cellMetadata": {
      "byteLimit": 2048000,
      "implicitDf": true,
      "rowLimit": 10000
     },
     "inputWidgets": {},
     "nuid": "868151d0-5fd6-416a-a36e-02d21957795b",
     "showTitle": false,
     "tableResultSettingsMap": {
      "0": {
       "dataGridStateBlob": "{\"version\":1,\"tableState\":{\"columnPinning\":{\"left\":[\"#row_number#\"],\"right\":[]},\"columnSizing\":{},\"columnVisibility\":{}},\"settings\":{\"columns\":{}},\"syncTimestamp\":1760930307403}",
       "filterBlob": null,
       "queryPlanFiltersBlob": null,
       "tableResultIndex": 0
      }
     },
     "title": ""
    }
   },
   "outputs": [],
   "source": [
    "%sql\n",
    "SELECT * FROM tmp_suppliers "
   ]
  },
  {
   "cell_type": "code",
   "execution_count": 0,
   "metadata": {
    "application/vnd.databricks.v1+cell": {
     "cellMetadata": {
      "byteLimit": 2048000,
      "rowLimit": 10000
     },
     "inputWidgets": {},
     "nuid": "3d00498e-8564-4453-ba2e-e85a5c41af89",
     "showTitle": false,
     "tableResultSettingsMap": {
      "0": {
       "dataGridStateBlob": "{\"version\":1,\"tableState\":{\"columnPinning\":{\"left\":[\"#row_number#\"],\"right\":[]},\"columnSizing\":{},\"columnVisibility\":{}},\"settings\":{\"columns\":{}},\"syncTimestamp\":1760996983445}",
       "filterBlob": null,
       "queryPlanFiltersBlob": null,
       "tableResultIndex": 0
      }
     },
     "title": ""
    }
   },
   "outputs": [],
   "source": [
    "from pyspark.sql import functions as F\n",
    "\n",
    "df_exploded = (\n",
    "    _sqldf \n",
    "    # transforma string em array usando a vírgula como separador\n",
    "    .withColumn(\"item_array\", F.split(F.col(\"items_provided\"), \",\"))\n",
    "    # explode a coluna array em múltiplas linhas\n",
    "    .withColumn(\"item\", F.explode(F.col(\"item_array\")))\n",
    "    # opcional: remover espaços extras\n",
    "    .withColumn(\"item\", F.trim(F.col(\"item\")))\n",
    "    # remover coluna temporária\n",
    "    .drop(\"item_array\", \"items_provided\", \"street\", \"number\", \"unit\", \"region\", \"district\", \"postcode\", \"city\", \"state\", \"lat\", \"lon\", \"street_ship\", \"number_ship\", \"unit_ship\", \"region_ship\", \"district_ship\", \"postcode_ship\", \"city_ship\", \"state_ship\", \"lat_ship\", \"lon_ship\")\n",
    ")\n",
    "\n",
    "display(df_exploded)"
   ]
  },
  {
   "cell_type": "code",
   "execution_count": 0,
   "metadata": {
    "application/vnd.databricks.v1+cell": {
     "cellMetadata": {
      "byteLimit": 2048000,
      "implicitDf": true,
      "rowLimit": 10000
     },
     "inputWidgets": {},
     "nuid": "5708a181-9065-4db0-a24b-8919e3c13c49",
     "showTitle": false,
     "tableResultSettingsMap": {},
     "title": ""
    }
   },
   "outputs": [],
   "source": [
    "%sql\n",
    "SELECT\n",
    "    o.SUPPLIER_ID,\n",
    "    TRIM(i) AS item\n",
    "FROM tmp_suppliers o\n",
    "LATERAL VIEW EXPLODE(SPLIT(o.items_provided, ',')) AS i\n"
   ]
  },
  {
   "cell_type": "code",
   "execution_count": 0,
   "metadata": {
    "application/vnd.databricks.v1+cell": {
     "cellMetadata": {
      "byteLimit": 2048000,
      "implicitDf": true,
      "rowLimit": 10000
     },
     "inputWidgets": {},
     "nuid": "1bd030ce-d5e1-4e68-98bd-56452bf2fe6e",
     "showTitle": false,
     "tableResultSettingsMap": {},
     "title": ""
    }
   },
   "outputs": [],
   "source": [
    "%sql\n",
    "CREATE OR REPLACE TABLE workspace.retail.silver_purchase_order\n",
    "USING DELTA\n",
    "AS\n",
    "SELECT * FROM tmp_purchase_orders"
   ]
  }
 ],
 "metadata": {
  "application/vnd.databricks.v1+notebook": {
   "computePreferences": null,
   "dashboards": [],
   "environmentMetadata": {
    "base_environment": "",
    "environment_version": "4"
   },
   "inputWidgetPreferences": null,
   "language": "python",
   "notebookMetadata": {
    "mostRecentlyExecutedCommandWithImplicitDF": {
     "commandId": 3552355117568872,
     "dataframes": [
      "_sqldf"
     ]
    },
    "pythonIndentUnit": 4
   },
   "notebookName": "04_silver_suppliers_dev",
   "widgets": {}
  },
  "language_info": {
   "name": "python"
  }
 },
 "nbformat": 4,
 "nbformat_minor": 0
}
