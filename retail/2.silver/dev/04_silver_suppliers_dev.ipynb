{
 "cells": [
  {
   "cell_type": "markdown",
   "metadata": {
    "application/vnd.databricks.v1+cell": {
     "cellMetadata": {
      "byteLimit": 2048000,
      "rowLimit": 10000
     },
     "inputWidgets": {},
     "nuid": "8f1eea72-2858-4d93-bdac-2feb64962725",
     "showTitle": false,
     "tableResultSettingsMap": {},
     "title": ""
    }
   },
   "source": [
    "## Bronze Layer"
   ]
  },
  {
   "cell_type": "markdown",
   "metadata": {
    "application/vnd.databricks.v1+cell": {
     "cellMetadata": {
      "byteLimit": 2048000,
      "implicitDf": true,
      "rowLimit": 10000
     },
     "inputWidgets": {},
     "nuid": "ebcbd93b-e286-4a5b-9563-014f974abf06",
     "showTitle": false,
     "tableResultSettingsMap": {},
     "title": ""
    }
   },
   "source": [
    "#### Criei um volume delta já que no free tier o acesso a mnt/ é negado"
   ]
  },
  {
   "cell_type": "markdown",
   "metadata": {
    "application/vnd.databricks.v1+cell": {
     "cellMetadata": {
      "byteLimit": 2048000,
      "rowLimit": 10000
     },
     "inputWidgets": {},
     "nuid": "8fb04f10-de33-4d64-a108-0d380a2c7b2f",
     "showTitle": false,
     "tableResultSettingsMap": {},
     "title": ""
    }
   },
   "source": [
    "#### Verificando os dados de teste disponíveis"
   ]
  },
  {
   "cell_type": "code",
   "execution_count": 0,
   "metadata": {
    "application/vnd.databricks.v1+cell": {
     "cellMetadata": {
      "byteLimit": 2048000,
      "rowLimit": 10000
     },
     "inputWidgets": {},
     "nuid": "4060415b-f508-4d43-ba5a-5dc742836b37",
     "showTitle": false,
     "tableResultSettingsMap": {},
     "title": ""
    }
   },
   "outputs": [],
   "source": [
    "%py\n",
    "# Definir caminhos base\n",
    "# BRONZE_PATH = \"/mnt/delta/bronze\"\n",
    "BRONZE_PATH = \"/Volumes/workspace/default/delta/bronze/retail\"\n",
    "SILVER_PATH = \"/Volumes/workspace/default/delta/silver/retail\"\n",
    "\n",
    "\n",
    "# Criando diretório Silver\n",
    "# Definir caminhos base\n"
   ]
  },
  {
   "cell_type": "code",
   "execution_count": 0,
   "metadata": {
    "application/vnd.databricks.v1+cell": {
     "cellMetadata": {
      "byteLimit": 2048000,
      "rowLimit": 10000
     },
     "inputWidgets": {},
     "nuid": "e0a3ef60-5c8c-4f83-b69b-43efa550795f",
     "showTitle": false,
     "tableResultSettingsMap": {},
     "title": ""
    }
   },
   "outputs": [],
   "source": [
    "display(dbutils.fs.ls(BRONZE_PATH))\n"
   ]
  },
  {
   "cell_type": "markdown",
   "metadata": {
    "application/vnd.databricks.v1+cell": {
     "cellMetadata": {
      "byteLimit": 2048000,
      "rowLimit": 10000
     },
     "inputWidgets": {},
     "nuid": "16d38f18-2b66-411e-8938-40bf7f02ff34",
     "showTitle": false,
     "tableResultSettingsMap": {},
     "title": ""
    }
   },
   "source": [
    "### Dataset retail silver\n"
   ]
  },
  {
   "cell_type": "code",
   "execution_count": 0,
   "metadata": {
    "application/vnd.databricks.v1+cell": {
     "cellMetadata": {
      "byteLimit": 2048000,
      "rowLimit": 10000
     },
     "inputWidgets": {},
     "nuid": "5d02ad07-65bc-47c5-8354-cce828cca1da",
     "showTitle": false,
     "tableResultSettingsMap": {},
     "title": ""
    }
   },
   "outputs": [],
   "source": [
    "silver_map = {\n",
    "    \"tmp_customers\": f\"{BRONZE_PATH}/customers\",\n",
    "    \"tmp_company_employees\": f\"{BRONZE_PATH}/company_employees\",\n",
    "    \"tmp_active_promotions\": f\"{BRONZE_PATH}/active_promotions\",\n",
    "    \"tmp_loyalty_segment\": f\"{BRONZE_PATH}/loyalty_segment\",\n",
    "    \"tmp_products\": f\"{BRONZE_PATH}/products\",\n",
    "    \"tmp_promotions\": f\"{BRONZE_PATH}/promotions\",\n",
    "    \"tmp_purchase_orders\": f\"{BRONZE_PATH}/purchase_orders\",\n",
    "    \"tmp_sales_orders\": f\"{BRONZE_PATH}/sales_orders\",\n",
    "    \"tmp_sales_stream\": f\"{BRONZE_PATH}/sales_stream\",\n",
    "    \"tmp_suppliers\": f\"{BRONZE_PATH}/suppliers\"\n",
    "}\n",
    "\n",
    "for view_name, path in silver_map.items():\n",
    "    print(f\"Loading {view_name} from {path}\")\n",
    "    spark.read.format(\"delta\").load(path).createOrReplaceTempView(view_name)\n",
    "# DBTITLE 1,customers"
   ]
  },
  {
   "cell_type": "markdown",
   "metadata": {
    "application/vnd.databricks.v1+cell": {
     "cellMetadata": {},
     "inputWidgets": {},
     "nuid": "2c4e4eec-555e-40c6-baa9-772c98126f6a",
     "showTitle": false,
     "tableResultSettingsMap": {},
     "title": ""
    }
   },
   "source": [
    "### Lendo as tabelas"
   ]
  },
  {
   "cell_type": "code",
   "execution_count": 0,
   "metadata": {
    "application/vnd.databricks.v1+cell": {
     "cellMetadata": {
      "byteLimit": 2048000,
      "implicitDf": true,
      "rowLimit": 10000
     },
     "inputWidgets": {},
     "nuid": "868151d0-5fd6-416a-a36e-02d21957795b",
     "showTitle": false,
     "tableResultSettingsMap": {
      "0": {
       "dataGridStateBlob": "{\"version\":1,\"tableState\":{\"columnPinning\":{\"left\":[\"#row_number#\"],\"right\":[]},\"columnSizing\":{},\"columnVisibility\":{}},\"settings\":{\"columns\":{}},\"syncTimestamp\":1760930307403}",
       "filterBlob": null,
       "queryPlanFiltersBlob": null,
       "tableResultIndex": 0
      }
     },
     "title": ""
    }
   },
   "outputs": [],
   "source": [
    "%sql\n",
    "SELECT * FROM tmp_suppliers "
   ]
  },
  {
   "cell_type": "markdown",
   "metadata": {
    "application/vnd.databricks.v1+cell": {
     "cellMetadata": {},
     "inputWidgets": {},
     "nuid": "9030e294-d2ea-4f58-bbd0-36ae812ed932",
     "showTitle": false,
     "tableResultSettingsMap": {},
     "title": ""
    }
   },
   "source": [
    "#### Explodindo a tabela para armazenar produtos por fornecedor em python"
   ]
  },
  {
   "cell_type": "code",
   "execution_count": 0,
   "metadata": {
    "application/vnd.databricks.v1+cell": {
     "cellMetadata": {
      "byteLimit": 2048000,
      "rowLimit": 10000
     },
     "inputWidgets": {},
     "nuid": "3d00498e-8564-4453-ba2e-e85a5c41af89",
     "showTitle": false,
     "tableResultSettingsMap": {
      "0": {
       "dataGridStateBlob": "{\"version\":1,\"tableState\":{\"columnPinning\":{\"left\":[\"#row_number#\"],\"right\":[]},\"columnSizing\":{},\"columnVisibility\":{}},\"settings\":{\"columns\":{}},\"syncTimestamp\":1760996983445}",
       "filterBlob": null,
       "queryPlanFiltersBlob": null,
       "tableResultIndex": 0
      }
     },
     "title": ""
    }
   },
   "outputs": [],
   "source": [
    "from pyspark.sql import functions as F\n",
    "\n",
    "df_exploded = (\n",
    "    _sqldf \n",
    "    # transforma string em array usando a vírgula como separador\n",
    "    .withColumn(\"item_array\", F.split(F.col(\"items_provided\"), \",\"))\n",
    "    # explode a coluna array em múltiplas linhas\n",
    "    .withColumn(\"item\", F.explode(F.col(\"item_array\")))\n",
    "    # opcional: remover espaços extras\n",
    "    .withColumn(\"item\", F.trim(F.col(\"item\")))\n",
    "    # remover coluna temporária\n",
    "    .drop(\"item_array\", \"items_provided\", \"street\", \"number\", \"unit\", \"region\", \"district\", \"postcode\", \"city\", \"state\", \"lat\", \"lon\", \"street_ship\", \"number_ship\", \"unit_ship\", \"region_ship\", \"district_ship\", \"postcode_ship\", \"city_ship\", \"state_ship\", \"lat_ship\", \"lon_ship\")\n",
    ")\n",
    "\n",
    "display(df_exploded)"
   ]
  },
  {
   "cell_type": "markdown",
   "metadata": {
    "application/vnd.databricks.v1+cell": {
     "cellMetadata": {},
     "inputWidgets": {},
     "nuid": "157e2b10-3ebf-46c3-9cd3-8160ee594074",
     "showTitle": false,
     "tableResultSettingsMap": {},
     "title": ""
    }
   },
   "source": [
    "#### O mesmo processo agora em sql"
   ]
  },
  {
   "cell_type": "code",
   "execution_count": 0,
   "metadata": {
    "application/vnd.databricks.v1+cell": {
     "cellMetadata": {
      "byteLimit": 2048000,
      "implicitDf": true,
      "rowLimit": 10000
     },
     "inputWidgets": {},
     "nuid": "5708a181-9065-4db0-a24b-8919e3c13c49",
     "showTitle": false,
     "tableResultSettingsMap": {
      "0": {
       "dataGridStateBlob": "{\"version\":1,\"tableState\":{\"columnPinning\":{\"left\":[\"#row_number#\"],\"right\":[]},\"columnSizing\":{},\"columnVisibility\":{}},\"settings\":{\"columns\":{}},\"syncTimestamp\":1761009762124}",
       "filterBlob": null,
       "queryPlanFiltersBlob": null,
       "tableResultIndex": 0
      }
     },
     "title": ""
    }
   },
   "outputs": [],
   "source": [
    "%sql\n",
    "SELECT\n",
    "    o.SUPPLIER_ID,\n",
    "    o.TAX_ID,\n",
    "    o.supplier_name,\n",
    "    TRIM(i) AS item\n",
    "FROM tmp_suppliers o\n",
    "LATERAL VIEW EXPLODE(SPLIT(o.items_provided, ',')) AS i\n"
   ]
  },
  {
   "cell_type": "code",
   "execution_count": 0,
   "metadata": {
    "application/vnd.databricks.v1+cell": {
     "cellMetadata": {
      "byteLimit": 2048000,
      "implicitDf": true,
      "rowLimit": 10000
     },
     "inputWidgets": {},
     "nuid": "1bd030ce-d5e1-4e68-98bd-56452bf2fe6e",
     "showTitle": false,
     "tableResultSettingsMap": {},
     "title": ""
    }
   },
   "outputs": [],
   "source": [
    "%sql\n",
    "CREATE OR REPLACE TABLE workspace.retail.silver_supplier_items\n",
    "USING DELTA\n",
    "AS\n",
    "SELECT\n",
    "    o.SUPPLIER_ID,\n",
    "    o.TAX_ID,\n",
    "    o.supplier_name,\n",
    "    TRIM(i) AS item\n",
    "FROM tmp_suppliers o\n",
    "LATERAL VIEW EXPLODE(SPLIT(o.items_provided, ',')) AS i"
   ]
  },
  {
   "cell_type": "markdown",
   "metadata": {
    "application/vnd.databricks.v1+cell": {
     "cellMetadata": {},
     "inputWidgets": {},
     "nuid": "be9006fe-9399-45a3-a802-3c904030492d",
     "showTitle": false,
     "tableResultSettingsMap": {},
     "title": ""
    }
   },
   "source": [
    "#### Salvando tabela de localização e tax id dos fornecedores"
   ]
  },
  {
   "cell_type": "code",
   "execution_count": 0,
   "metadata": {
    "application/vnd.databricks.v1+cell": {
     "cellMetadata": {
      "byteLimit": 2048000,
      "implicitDf": true,
      "rowLimit": 10000
     },
     "inputWidgets": {},
     "nuid": "a765977e-8a56-43a9-a145-887ea05297fa",
     "showTitle": false,
     "tableResultSettingsMap": {},
     "title": ""
    }
   },
   "outputs": [],
   "source": [
    "%sql\n",
    "SELECT * FROM tmp_suppliers "
   ]
  },
  {
   "cell_type": "code",
   "execution_count": 0,
   "metadata": {
    "application/vnd.databricks.v1+cell": {
     "cellMetadata": {
      "byteLimit": 2048000,
      "rowLimit": 10000
     },
     "inputWidgets": {},
     "nuid": "9f4fa108-7a3c-47fe-8498-f8834f104d1f",
     "showTitle": false,
     "tableResultSettingsMap": {},
     "title": ""
    }
   },
   "outputs": [],
   "source": [
    "df_supplier = _sqldf.select(\"SUPPLIER_ID\", \"TAX_ID\", \"supplier_name\", \"lat\", \"lon\")"
   ]
  },
  {
   "cell_type": "markdown",
   "metadata": {
    "application/vnd.databricks.v1+cell": {
     "cellMetadata": {},
     "inputWidgets": {},
     "nuid": "1ffb1fe4-cb79-4869-a627-c71d6b05a26b",
     "showTitle": false,
     "tableResultSettingsMap": {},
     "title": ""
    }
   },
   "source": [
    "#####  - Consulta a api que retorna o endereço pelas coordenadas\n",
    "#####  - Conceito de cache, avitar consultas desnecessárias em api's\n",
    "\n",
    "lat = 33.985047200000004\n",
    "\n",
    "lon = -118.2286537\n",
    "\n",
    "f\"https://nominatim.openstreetmap.org/reverse?lat=-{lat}&lon={lon}&format=json\""
   ]
  },
  {
   "cell_type": "markdown",
   "metadata": {
    "application/vnd.databricks.v1+cell": {
     "cellMetadata": {},
     "inputWidgets": {},
     "nuid": "74f7621a-ab26-4d45-b596-14fce7216b40",
     "showTitle": false,
     "tableResultSettingsMap": {},
     "title": ""
    }
   },
   "source": [
    "!head -n 20 {CACHE_FILE} \n"
   ]
  },
  {
   "cell_type": "code",
   "execution_count": 0,
   "metadata": {
    "application/vnd.databricks.v1+cell": {
     "cellMetadata": {
      "byteLimit": 2048000,
      "rowLimit": 10000
     },
     "inputWidgets": {},
     "nuid": "d21f4191-ea85-4a83-bab9-cb722913732d",
     "showTitle": false,
     "tableResultSettingsMap": {},
     "title": ""
    }
   },
   "outputs": [],
   "source": [
    "import json\n",
    "import requests\n",
    "import time\n",
    "from pathlib import Path\n",
    "\n",
    "# caminho para salvar o cache\n",
    "CACHE_FILE = f\"{BRONZE_PATH}/suppliers_geocache.json\"\n",
    "\n",
    "# carrega o cache existente (ou cria vazio)\n",
    "if Path(CACHE_FILE).exists():\n",
    "    with open(CACHE_FILE, \"r\") as f:\n",
    "        geocache = json.load(f)\n",
    "else:\n",
    "    geocache = {}\n",
    "\n",
    "for row in df_supplier.collect():  # .limit(10)\n",
    "    lat = str(row[\"lat\"])\n",
    "    lon = str(row[\"lon\"])\n",
    "    key = f\"{lat},{lon}\"\n",
    "\n",
    "    if key in geocache:\n",
    "        print(f\"🔁 Cache hit: {key}\")\n",
    "        addr = geocache[key]\n",
    "    else:\n",
    "        url = f\"https://nominatim.openstreetmap.org/reverse?lat={lat}&lon={lon}&format=json\"\n",
    "        r = requests.get(url, headers={'User-Agent': 'databricks-app'})\n",
    "        data = r.json()\n",
    "        addr = data.get(\"address\", {})\n",
    "        geocache[key] = {\n",
    "            \"road\": addr.get(\"road\"),\n",
    "            \"town\": addr.get(\"town\"),\n",
    "            \"state\": addr.get(\"state\"),\n",
    "            \"postcode\": addr.get(\"postcode\"),\n",
    "            \"country\": addr.get(\"country\")\n",
    "        }\n",
    "        print(f\"✅ Nova requisição: {key}\")\n",
    "        time.sleep(1)\n",
    "\n",
    "    print({\n",
    "        \"SUPPLIER_ID\": row[\"SUPPLIER_ID\"],\n",
    "        **geocache[key]\n",
    "    })\n",
    "\n",
    "# salva o cache atualizado\n",
    "with open(CACHE_FILE, \"w\") as f:\n",
    "    json.dump(geocache, f, indent=2)\n"
   ]
  },
  {
   "cell_type": "code",
   "execution_count": 0,
   "metadata": {
    "application/vnd.databricks.v1+cell": {
     "cellMetadata": {
      "byteLimit": 2048000,
      "rowLimit": 10000
     },
     "inputWidgets": {},
     "nuid": "05493b3a-b72e-43c1-8956-9f69594701ce",
     "showTitle": false,
     "tableResultSettingsMap": {},
     "title": ""
    }
   },
   "outputs": [],
   "source": [
    "import json\n",
    "\n",
    "with open(CACHE_FILE, \"r\") as f:\n",
    "    cache_dict = json.load(f)\n",
    "\n",
    "# Exemplo de como ele fica\n",
    "print(cache_dict)\n"
   ]
  },
  {
   "cell_type": "code",
   "execution_count": 0,
   "metadata": {
    "application/vnd.databricks.v1+cell": {
     "cellMetadata": {
      "byteLimit": 2048000,
      "rowLimit": 10000
     },
     "inputWidgets": {},
     "nuid": "d44292b3-0741-406b-94ad-1b5c3c52c4c2",
     "showTitle": false,
     "tableResultSettingsMap": {},
     "title": ""
    }
   },
   "outputs": [],
   "source": [
    "from pyspark.sql import Row\n",
    "\n",
    "# Transforma o dicionário em lista de linhas com colunas separadas\n",
    "rows = []\n",
    "for coords, addr in cache_dict.items():\n",
    "    lat, lon = map(float, coords.split(\",\"))\n",
    "    rows.append(Row(\n",
    "        lat=lat,\n",
    "        lon=lon,\n",
    "        road=addr.get(\"road\"),\n",
    "        town=addr.get(\"town\"),\n",
    "        state=addr.get(\"state\"),\n",
    "        postcode=addr.get(\"postcode\"),\n",
    "        country=addr.get(\"country\")\n",
    "    ))\n",
    "\n",
    "# Cria o DataFrame Spark\n",
    "cache_supplier = spark.createDataFrame(rows)\n",
    "display(cache_supplier)\n"
   ]
  },
  {
   "cell_type": "code",
   "execution_count": 0,
   "metadata": {
    "application/vnd.databricks.v1+cell": {
     "cellMetadata": {
      "byteLimit": 2048000,
      "rowLimit": 10000
     },
     "inputWidgets": {},
     "nuid": "55feb7c2-7d11-4575-9a87-aebc02f40505",
     "showTitle": false,
     "tableResultSettingsMap": {},
     "title": ""
    }
   },
   "outputs": [],
   "source": [
    "# Faz o join entre df_supplier e cache_supplier\n",
    "df_joined = df_supplier.join(\n",
    "    cache_supplier,\n",
    "    (df_supplier.lat == cache_supplier.lat) & (df_supplier.lon == cache_supplier.lon),\n",
    "    \"left\"  # mantém todos os suppliers mesmo que não tenha endereço no cache\n",
    ")\n",
    "\n",
    "# Remove colunas duplicadas vindas do cache\n",
    "df_joined = df_joined.drop(cache_supplier.lat).drop(cache_supplier.lon)\n",
    "\n",
    "# Visualiza o resultado\n",
    "display(df_joined)"
   ]
  },
  {
   "cell_type": "code",
   "execution_count": 0,
   "metadata": {
    "application/vnd.databricks.v1+cell": {
     "cellMetadata": {
      "byteLimit": 2048000,
      "rowLimit": 10000
     },
     "inputWidgets": {},
     "nuid": "f6b7ac6a-9bea-492f-95db-d22626927d34",
     "showTitle": false,
     "tableResultSettingsMap": {},
     "title": ""
    }
   },
   "outputs": [],
   "source": [
    "# Salva a tabela na camada Silver\n",
    "df_joined.write.mode(\"overwrite\").saveAsTable(\"workspace.retail.silver_suppliers\")\n"
   ]
  }
 ],
 "metadata": {
  "application/vnd.databricks.v1+notebook": {
   "computePreferences": null,
   "dashboards": [],
   "environmentMetadata": {
    "base_environment": "",
    "environment_version": "4"
   },
   "inputWidgetPreferences": null,
   "language": "python",
   "notebookMetadata": {
    "mostRecentlyExecutedCommandWithImplicitDF": {
     "commandId": 4786225100520076,
     "dataframes": [
      "_sqldf"
     ]
    },
    "pythonIndentUnit": 4
   },
   "notebookName": "04_silver_suppliers_dev",
   "widgets": {}
  },
  "language_info": {
   "name": "python"
  }
 },
 "nbformat": 4,
 "nbformat_minor": 0
}
