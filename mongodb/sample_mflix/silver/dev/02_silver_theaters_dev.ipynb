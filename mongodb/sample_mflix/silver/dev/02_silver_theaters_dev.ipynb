{
 "cells": [
  {
   "cell_type": "code",
   "execution_count": 0,
   "metadata": {
    "application/vnd.databricks.v1+cell": {
     "cellMetadata": {
      "byteLimit": 2048000,
      "rowLimit": 10000
     },
     "inputWidgets": {},
     "nuid": "6ac87633-f123-4548-bb38-2988b6450eea",
     "showTitle": false,
     "tableResultSettingsMap": {},
     "title": ""
    }
   },
   "outputs": [],
   "source": [
    "%py\n",
    "# Definir caminhos base\n",
    "# BRONZE_PATH = \"/mnt/delta/bronze\"\n",
    "# https://github.com/neelabalan/mongodb-sample-dataset/tree/main\n",
    "SOURCE_PATH = \"dbfs:/Volumes/workspace/default/resource/input/mongodb-sample-dataset\"\n",
    "DESTINY_PATH = \"/Volumes/workspace/default/delta/bronze/mongodb-sample-dataset/\""
   ]
  },
  {
   "cell_type": "code",
   "execution_count": 0,
   "metadata": {
    "application/vnd.databricks.v1+cell": {
     "cellMetadata": {
      "byteLimit": 2048000,
      "rowLimit": 10000
     },
     "inputWidgets": {},
     "nuid": "9cffdf72-88cf-4363-88a8-cc7000bef69f",
     "showTitle": false,
     "tableResultSettingsMap": {},
     "title": ""
    }
   },
   "outputs": [],
   "source": [
    "display(dbutils.fs.ls(f\"{SOURCE_PATH}/sample_mflix\"))"
   ]
  },
  {
   "cell_type": "code",
   "execution_count": 0,
   "metadata": {
    "application/vnd.databricks.v1+cell": {
     "cellMetadata": {
      "byteLimit": 2048000,
      "rowLimit": 10000
     },
     "inputWidgets": {},
     "nuid": "137d111b-f157-4e90-af9f-cfe682b37244",
     "showTitle": false,
     "tableResultSettingsMap": {},
     "title": ""
    }
   },
   "outputs": [],
   "source": [
    "fold = f\"{SOURCE_PATH}/sample_mflix/theaters.json\"\n",
    "df = spark.read.format('json').load(fold)"
   ]
  },
  {
   "cell_type": "code",
   "execution_count": 0,
   "metadata": {
    "application/vnd.databricks.v1+cell": {
     "cellMetadata": {
      "byteLimit": 2048000,
      "rowLimit": 10000
     },
     "inputWidgets": {},
     "nuid": "b1e6cb19-c48c-4d9c-a5bf-36fcfeeffd09",
     "showTitle": false,
     "tableResultSettingsMap": {
      "0": {
       "dataGridStateBlob": "{\"version\":1,\"tableState\":{\"columnPinning\":{\"left\":[\"#row_number#\"],\"right\":[]},\"columnSizing\":{},\"columnVisibility\":{}},\"settings\":{\"columns\":{}},\"syncTimestamp\":1761201220053}",
       "filterBlob": null,
       "queryPlanFiltersBlob": null,
       "tableResultIndex": 0
      }
     },
     "title": ""
    }
   },
   "outputs": [],
   "source": [
    "from pyspark.sql.functions import col\n",
    "\n",
    "df_cinema = (\n",
    "    df.withColumn(\"id\", col(\"_id.$oid\"))\n",
    "    .withColumn(\"city\", col(\"location.address.city\"))\n",
    "    .withColumn(\"state\", col(\"location.address.state\"))\n",
    "    .withColumn(\"street1\", col(\"location.address.street1\"))\n",
    "    .withColumn(\"street2\", col(\"location.address.street2\"))\n",
    "    .withColumn(\"zipcode\", col(\"location.address.zipcode\"))\n",
    "    .withColumn(\"coordinates\", col(\"location.geo.coordinates.$numberDouble\"))\n",
    "    .withColumn(\"longitude\", col(\"coordinates\")[0]) \\\n",
    "    .withColumn(\"latitude\", col(\"coordinates\")[1]) \\\n",
    "    .withColumn(\"theaterId\", col(\"theaterId.$numberInt\")) \\\n",
    "    .drop(\"_id\", \"location\", \"theaterId\", \"coordinates\")\n",
    ")\n",
    "display(df_cinema)"
   ]
  },
  {
   "cell_type": "code",
   "execution_count": 0,
   "metadata": {
    "application/vnd.databricks.v1+cell": {
     "cellMetadata": {
      "byteLimit": 2048000,
      "rowLimit": 10000
     },
     "inputWidgets": {},
     "nuid": "fc4aa117-e861-4468-a84f-7df8a1f684af",
     "showTitle": false,
     "tableResultSettingsMap": {
      "0": {
       "dataGridStateBlob": "{\"version\":1,\"tableState\":{\"columnPinning\":{\"left\":[\"#row_number#\"],\"right\":[]},\"columnSizing\":{},\"columnVisibility\":{}},\"settings\":{\"columns\":{}},\"syncTimestamp\":1761199107958}",
       "filterBlob": null,
       "queryPlanFiltersBlob": null,
       "tableResultIndex": 0
      }
     },
     "title": ""
    }
   },
   "outputs": [],
   "source": [
    "display(df)"
   ]
  },
  {
   "cell_type": "code",
   "execution_count": 0,
   "metadata": {
    "application/vnd.databricks.v1+cell": {
     "cellMetadata": {
      "byteLimit": 2048000,
      "rowLimit": 10000
     },
     "inputWidgets": {},
     "nuid": "649a51aa-7168-4984-91f1-e4c743ec080f",
     "showTitle": false,
     "tableResultSettingsMap": {},
     "title": ""
    }
   },
   "outputs": [],
   "source": [
    "sample_mflix.write.format(\"delta\") \\\n",
    "    .mode(\"overwrite\") \\\n",
    "    .option(\"mergeSchema\", \"true\") \\\n",
    "    .save(F\"{DESTINY_PATH}/sample_mflix\")\n"
   ]
  }
 ],
 "metadata": {
  "application/vnd.databricks.v1+notebook": {
   "computePreferences": null,
   "dashboards": [],
   "environmentMetadata": {
    "base_environment": "",
    "environment_version": "4"
   },
   "inputWidgetPreferences": null,
   "language": "python",
   "notebookMetadata": {
    "pythonIndentUnit": 4
   },
   "notebookName": "02_silver_theaters_dev",
   "widgets": {}
  },
  "language_info": {
   "name": "python"
  }
 },
 "nbformat": 4,
 "nbformat_minor": 0
}
